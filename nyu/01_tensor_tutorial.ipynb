{
 "cells": [
  {
   "cell_type": "markdown",
   "id": "043ac0a3-13ce-4cf4-a774-86524875f58c",
   "metadata": {},
   "source": [
    "## Import PyTorch"
   ]
  },
  {
   "cell_type": "code",
   "execution_count": 1,
   "id": "e600ec28-e24a-4538-87a3-86c708dc007b",
   "metadata": {},
   "outputs": [],
   "source": [
    "import torch"
   ]
  },
  {
   "cell_type": "markdown",
   "id": "28bb0d0e-431d-43da-a030-47c7bd739ce3",
   "metadata": {},
   "source": [
    "## Torch!"
   ]
  },
  {
   "cell_type": "code",
   "execution_count": 5,
   "id": "6af59c81-ee4a-4d50-a76b-0c19285edd44",
   "metadata": {},
   "outputs": [
    {
     "data": {
      "text/plain": [
       "torch.Tensor"
      ]
     },
     "execution_count": 5,
     "metadata": {},
     "output_type": "execute_result"
    }
   ],
   "source": [
    "t = torch.Tensor(2, 3, 4)\n",
    "type(t)"
   ]
  },
  {
   "cell_type": "code",
   "execution_count": 8,
   "id": "8b96c50f-62a6-4dcc-81f0-480e8fc6622f",
   "metadata": {},
   "outputs": [
    {
     "data": {
      "text/plain": [
       "torch.Size([2, 3, 4])"
      ]
     },
     "execution_count": 8,
     "metadata": {},
     "output_type": "execute_result"
    }
   ],
   "source": [
    "t.size()"
   ]
  },
  {
   "cell_type": "code",
   "execution_count": 9,
   "id": "3f3841cb-ea0f-428a-8c17-ca3ae9ecf121",
   "metadata": {},
   "outputs": [
    {
     "name": "stdout",
     "output_type": "stream",
     "text": [
      "t size: 2 × 3 × 4\n"
     ]
    }
   ],
   "source": [
    "print('t size:', ' \\u00D7 '.join(map(str, t.size())))"
   ]
  },
  {
   "cell_type": "code",
   "execution_count": 11,
   "id": "ce55fa39-913c-448e-9e3c-9886551b9ecf",
   "metadata": {},
   "outputs": [
    {
     "name": "stdout",
     "output_type": "stream",
     "text": [
      "point in a 24 dimensional space\n",
      "organised in 3 sub-dimensions\n"
     ]
    }
   ],
   "source": [
    "# prints dimensional space and sub-dimensions\n",
    "print(f'point in a {t.numel()} dimensional space')\n",
    "print(f'organised in {t.dim()} sub-dimensions')"
   ]
  },
  {
   "cell_type": "code",
   "execution_count": 12,
   "id": "29b5cbdb-a2fa-4fdc-a3ab-ef892998e6e6",
   "metadata": {},
   "outputs": [
    {
     "data": {
      "text/plain": [
       "tensor([[[-8.4352e-32,  4.5588e-41,  9.0596e-36,  0.0000e+00],\n",
       "         [-4.8264e+14,  4.5587e-41, -4.8265e+14,  4.5587e-41],\n",
       "         [-4.8264e+14,  4.5587e-41, -4.8267e+14,  4.5587e-41]],\n",
       "\n",
       "        [[-4.8267e+14,  4.5587e-41, -4.8266e+14,  4.5587e-41],\n",
       "         [-4.8255e+14,  4.5587e-41, -4.8257e+14,  4.5587e-41],\n",
       "         [-4.8430e+14,  4.5587e-41,  1.8077e-43,  0.0000e+00]]])"
      ]
     },
     "execution_count": 12,
     "metadata": {},
     "output_type": "execute_result"
    }
   ],
   "source": [
    "t"
   ]
  },
  {
   "cell_type": "code",
   "execution_count": 18,
   "id": "2233cb45-2406-459a-b70d-771967c16228",
   "metadata": {},
   "outputs": [
    {
     "data": {
      "text/plain": [
       "tensor([[[9., 4., 8., 0.],\n",
       "         [5., 7., 3., 1.],\n",
       "         [0., 7., 7., 0.]],\n",
       "\n",
       "        [[8., 4., 0., 3.],\n",
       "         [3., 9., 2., 6.],\n",
       "         [8., 3., 4., 7.]]])"
      ]
     },
     "execution_count": 18,
     "metadata": {},
     "output_type": "execute_result"
    }
   ],
   "source": [
    "# Mind the underscore!\n",
    "# Any operation that mutates a tensor in-place is post-fixed with an _.\n",
    "# For example: x.copy_(y), x.t_(), x.random_(n) will change x.\n",
    "t.random_(10)"
   ]
  },
  {
   "cell_type": "code",
   "execution_count": 19,
   "id": "ea613c7d-17ef-4349-8943-3e4a77fb47f7",
   "metadata": {},
   "outputs": [
    {
     "data": {
      "text/plain": [
       "tensor([[[9., 4., 8., 0.],\n",
       "         [5., 7., 3., 1.],\n",
       "         [0., 7., 7., 0.]],\n",
       "\n",
       "        [[8., 4., 0., 3.],\n",
       "         [3., 9., 2., 6.],\n",
       "         [8., 3., 4., 7.]]])"
      ]
     },
     "execution_count": 19,
     "metadata": {},
     "output_type": "execute_result"
    }
   ],
   "source": [
    "t"
   ]
  },
  {
   "cell_type": "code",
   "execution_count": 20,
   "id": "07e00f90-8ef9-462a-8068-e73b0622fc01",
   "metadata": {},
   "outputs": [
    {
     "data": {
      "text/plain": [
       "tensor([[9., 4., 8., 0., 5., 7., 3., 1.],\n",
       "        [0., 7., 7., 0., 8., 4., 0., 3.],\n",
       "        [3., 9., 2., 6., 8., 3., 4., 7.]])"
      ]
     },
     "execution_count": 20,
     "metadata": {},
     "output_type": "execute_result"
    }
   ],
   "source": [
    "r = torch.Tensor(t)\n",
    "r.resize_(3, 8)\n",
    "r"
   ]
  },
  {
   "cell_type": "code",
   "execution_count": 21,
   "id": "a45c8e12-3dd1-4d4b-b8e4-9d67c5be1cf8",
   "metadata": {},
   "outputs": [
    {
     "data": {
      "text/plain": [
       "tensor([[[9., 4., 8., 0.],\n",
       "         [5., 7., 3., 1.],\n",
       "         [0., 7., 7., 0.]],\n",
       "\n",
       "        [[8., 4., 0., 3.],\n",
       "         [3., 9., 2., 6.],\n",
       "         [8., 3., 4., 7.]]])"
      ]
     },
     "execution_count": 21,
     "metadata": {},
     "output_type": "execute_result"
    }
   ],
   "source": [
    "t"
   ]
  },
  {
   "cell_type": "code",
   "execution_count": 22,
   "id": "70f072bc-b594-44d0-bdbd-6fc32b2e9e91",
   "metadata": {},
   "outputs": [
    {
     "data": {
      "text/plain": [
       "tensor([[0., 0., 0., 0., 0., 0., 0., 0.],\n",
       "        [0., 0., 0., 0., 0., 0., 0., 0.],\n",
       "        [0., 0., 0., 0., 0., 0., 0., 0.]])"
      ]
     },
     "execution_count": 22,
     "metadata": {},
     "output_type": "execute_result"
    }
   ],
   "source": [
    "r.zero_()"
   ]
  },
  {
   "cell_type": "code",
   "execution_count": 23,
   "id": "5b4ef17c-8a22-4c2e-a02f-465772aa30de",
   "metadata": {},
   "outputs": [
    {
     "data": {
      "text/plain": [
       "tensor([[[0., 0., 0., 0.],\n",
       "         [0., 0., 0., 0.],\n",
       "         [0., 0., 0., 0.]],\n",
       "\n",
       "        [[0., 0., 0., 0.],\n",
       "         [0., 0., 0., 0.],\n",
       "         [0., 0., 0., 0.]]])"
      ]
     },
     "execution_count": 23,
     "metadata": {},
     "output_type": "execute_result"
    }
   ],
   "source": [
    "t"
   ]
  },
  {
   "cell_type": "code",
   "execution_count": 24,
   "id": "1dc8b8c4-99dc-4fa3-bde5-6af954f97704",
   "metadata": {},
   "outputs": [],
   "source": [
    "s = r.clone()"
   ]
  },
  {
   "cell_type": "code",
   "execution_count": 25,
   "id": "e4a24bfa-d13e-4d25-910a-3fcd48c3c2b8",
   "metadata": {},
   "outputs": [
    {
     "data": {
      "text/plain": [
       "tensor([[0., 0., 0., 0., 0., 0., 0., 0.],\n",
       "        [0., 0., 0., 0., 0., 0., 0., 0.],\n",
       "        [0., 0., 0., 0., 0., 0., 0., 0.]])"
      ]
     },
     "execution_count": 25,
     "metadata": {},
     "output_type": "execute_result"
    }
   ],
   "source": [
    "s"
   ]
  },
  {
   "cell_type": "code",
   "execution_count": 27,
   "id": "99dc13e3-3d6f-4c48-aa3e-1dbc55190273",
   "metadata": {},
   "outputs": [
    {
     "data": {
      "text/plain": [
       "tensor([[1., 1., 1., 1., 1., 1., 1., 1.],\n",
       "        [1., 1., 1., 1., 1., 1., 1., 1.],\n",
       "        [1., 1., 1., 1., 1., 1., 1., 1.]])"
      ]
     },
     "execution_count": 27,
     "metadata": {},
     "output_type": "execute_result"
    }
   ],
   "source": [
    "s.fill_(1)"
   ]
  },
  {
   "cell_type": "code",
   "execution_count": 28,
   "id": "f7918416-13f7-47d6-b03b-4c349ab3c84b",
   "metadata": {},
   "outputs": [
    {
     "data": {
      "text/plain": [
       "tensor([[0., 0., 0., 0., 0., 0., 0., 0.],\n",
       "        [0., 0., 0., 0., 0., 0., 0., 0.],\n",
       "        [0., 0., 0., 0., 0., 0., 0., 0.]])"
      ]
     },
     "execution_count": 28,
     "metadata": {},
     "output_type": "execute_result"
    }
   ],
   "source": [
    "r"
   ]
  },
  {
   "cell_type": "markdown",
   "id": "bb41ec4d-23c6-4227-b2b8-5b4735fe6452",
   "metadata": {},
   "source": [
    "## Vectors (1D Tensors)"
   ]
  },
  {
   "cell_type": "code",
   "execution_count": 29,
   "id": "65575d12-ad98-4ed9-8cb7-27873313fc57",
   "metadata": {},
   "outputs": [
    {
     "data": {
      "text/plain": [
       "tensor([1., 2., 3., 4.])"
      ]
     },
     "execution_count": 29,
     "metadata": {},
     "output_type": "execute_result"
    }
   ],
   "source": [
    "v = torch.Tensor([1, 2, 3, 4])\n",
    "v"
   ]
  },
  {
   "cell_type": "code",
   "execution_count": 30,
   "id": "79bf2e6a-c3bf-49c9-bf77-7743c1e4e46f",
   "metadata": {},
   "outputs": [
    {
     "name": "stdout",
     "output_type": "stream",
     "text": [
      "dim: 1, size: torch.Size([4])\n"
     ]
    }
   ],
   "source": [
    "print(f\"dim: {v.dim()}, size: {v.size()}\")"
   ]
  },
  {
   "cell_type": "code",
   "execution_count": 31,
   "id": "93c97330-271b-457e-bbf5-d3d0216f85ef",
   "metadata": {},
   "outputs": [
    {
     "data": {
      "text/plain": [
       "tensor([1., 0., 2., 0.])"
      ]
     },
     "execution_count": 31,
     "metadata": {},
     "output_type": "execute_result"
    }
   ],
   "source": [
    "w = torch.Tensor([1, 0, 2, 0])\n",
    "w"
   ]
  },
  {
   "cell_type": "code",
   "execution_count": 33,
   "id": "451fb67f-a097-4b7d-8bfa-30c751603310",
   "metadata": {},
   "outputs": [
    {
     "data": {
      "text/plain": [
       "tensor([1., 0., 6., 0.])"
      ]
     },
     "execution_count": 33,
     "metadata": {},
     "output_type": "execute_result"
    }
   ],
   "source": [
    "# element wise multiplication\n",
    "v*w"
   ]
  },
  {
   "cell_type": "code",
   "execution_count": 34,
   "id": "be56e452-c801-411c-945c-f87257acf1a8",
   "metadata": {},
   "outputs": [
    {
     "data": {
      "text/plain": [
       "tensor(7.)"
      ]
     },
     "execution_count": 34,
     "metadata": {},
     "output_type": "execute_result"
    }
   ],
   "source": [
    "#Scalar product\n",
    "v @ w"
   ]
  },
  {
   "cell_type": "code",
   "execution_count": 36,
   "id": "13822733-9b98-4dda-b399-e918a5d2c5e7",
   "metadata": {},
   "outputs": [
    {
     "data": {
      "text/plain": [
       "tensor([2., 6., 0., 0., 7.])"
      ]
     },
     "execution_count": 36,
     "metadata": {},
     "output_type": "execute_result"
    }
   ],
   "source": [
    "x = torch.Tensor(5).random_(10)\n",
    "x"
   ]
  },
  {
   "cell_type": "code",
   "execution_count": 39,
   "id": "019de149-d72d-4fea-9e61-fdfe0c8d674e",
   "metadata": {},
   "outputs": [
    {
     "name": "stdout",
     "output_type": "stream",
     "text": [
      "first:2.0, last:7.0\n"
     ]
    }
   ],
   "source": [
    "print(f\"first:{x[0]}, last:{x[-1]}\")"
   ]
  },
  {
   "cell_type": "code",
   "execution_count": 41,
   "id": "93482d29-eeca-40bd-a5fa-8194a3c0ebb3",
   "metadata": {},
   "outputs": [
    {
     "data": {
      "text/plain": [
       "tensor([6., 0.])"
      ]
     },
     "execution_count": 41,
     "metadata": {},
     "output_type": "execute_result"
    }
   ],
   "source": [
    "x[1:3]"
   ]
  },
  {
   "cell_type": "code",
   "execution_count": 42,
   "id": "5f1d6419-4169-4ba2-a8a6-d75843702a95",
   "metadata": {},
   "outputs": [
    {
     "data": {
      "text/plain": [
       "tensor([1, 2, 3, 4])"
      ]
     },
     "execution_count": 42,
     "metadata": {},
     "output_type": "execute_result"
    }
   ],
   "source": [
    "v = torch.arange(1, 5)\n",
    "v"
   ]
  },
  {
   "cell_type": "code",
   "execution_count": 46,
   "id": "972cf5a8-6aab-45fc-9603-ce5334aab965",
   "metadata": {},
   "outputs": [
    {
     "data": {
      "text/plain": [
       "tensor([ 0.,  1.,  2.,  3.,  4.,  5.,  6.,  7.,  8.,  9., 10.])"
      ]
     },
     "execution_count": 46,
     "metadata": {},
     "output_type": "execute_result"
    }
   ],
   "source": [
    "u = torch.linspace(0, 10, 11)\n",
    "u"
   ]
  },
  {
   "cell_type": "code",
   "execution_count": 48,
   "id": "6c4e5700-32dd-40e0-a102-3b0999f19f98",
   "metadata": {},
   "outputs": [
    {
     "name": "stdout",
     "output_type": "stream",
     "text": [
      "tensor([  0.,   1.,   4.,   9.,  16.,  25.,  36.,  49.,  64.,  81., 100.]) tensor([ 0.,  1.,  2.,  3.,  4.,  5.,  6.,  7.,  8.,  9., 10.])\n"
     ]
    }
   ],
   "source": [
    "print(u.pow(2), u)"
   ]
  },
  {
   "cell_type": "markdown",
   "id": "093d6300-8ea6-47e2-aa95-c41ca0f405f5",
   "metadata": {},
   "source": [
    "## Matrices(2D Tensors)"
   ]
  },
  {
   "cell_type": "code",
   "execution_count": 49,
   "id": "1e78e241-b8df-4a38-b6d9-0238913bb34e",
   "metadata": {},
   "outputs": [
    {
     "data": {
      "text/plain": [
       "tensor([[2., 5., 3., 7.],\n",
       "        [4., 2., 1., 9.]])"
      ]
     },
     "execution_count": 49,
     "metadata": {},
     "output_type": "execute_result"
    }
   ],
   "source": [
    "m = torch.Tensor([[2, 5, 3, 7],\n",
    "                  [4, 2, 1, 9]])\n",
    "m"
   ]
  },
  {
   "cell_type": "code",
   "execution_count": 50,
   "id": "f2e41cf3-df53-4485-95b5-e7184a6230fc",
   "metadata": {},
   "outputs": [
    {
     "data": {
      "text/plain": [
       "2"
      ]
     },
     "execution_count": 50,
     "metadata": {},
     "output_type": "execute_result"
    }
   ],
   "source": [
    "m.dim()"
   ]
  },
  {
   "cell_type": "code",
   "execution_count": 51,
   "id": "47394576-a93c-47ab-993a-c030b1555626",
   "metadata": {},
   "outputs": [
    {
     "name": "stdout",
     "output_type": "stream",
     "text": [
      "2----4----torch.Size([2, 4])\n"
     ]
    }
   ],
   "source": [
    "print(m.size(0), m.size(1), m.size(), sep='----')"
   ]
  },
  {
   "cell_type": "code",
   "execution_count": 52,
   "id": "0791ff5c-dc82-4b5b-be6d-e34c770ba3f0",
   "metadata": {},
   "outputs": [
    {
     "data": {
      "text/plain": [
       "8"
      ]
     },
     "execution_count": 52,
     "metadata": {},
     "output_type": "execute_result"
    }
   ],
   "source": [
    "m.numel()"
   ]
  },
  {
   "cell_type": "markdown",
   "id": "ac24f0d7-2813-4bcb-a210-b1750dc2c576",
   "metadata": {},
   "source": [
    "## Constructors\n",
    "\n",
    "Same as numpy"
   ]
  },
  {
   "cell_type": "markdown",
   "id": "724c9442-11e4-4d4a-b949-430fde0d1cd8",
   "metadata": {},
   "source": [
    "## Casting"
   ]
  },
  {
   "cell_type": "code",
   "execution_count": 55,
   "id": "14e543a9-f7ae-4d92-87f7-435cfbf44c1a",
   "metadata": {},
   "outputs": [
    {
     "data": {
      "text/plain": [
       "torch.BFloat16Tensor\n",
       "torch.BoolTensor\n",
       "torch.ByteTensor\n",
       "torch.CharTensor\n",
       "torch.DoubleTensor\n",
       "torch.FloatTensor\n",
       "torch.HalfTensor\n",
       "torch.IntTensor\n",
       "torch.LongTensor\n",
       "torch.ShortTensor\n",
       "torch.Tensor"
      ]
     },
     "metadata": {},
     "output_type": "display_data"
    }
   ],
   "source": [
    "torch.*Tensor?"
   ]
  },
  {
   "cell_type": "code",
   "execution_count": 60,
   "id": "2205df06-98b3-4043-bd9a-1023fa1f06dc",
   "metadata": {},
   "outputs": [
    {
     "data": {
      "text/plain": [
       "tensor([[2., 5., 3., 7.],\n",
       "        [4., 2., 1., 9.]])"
      ]
     },
     "execution_count": 60,
     "metadata": {},
     "output_type": "execute_result"
    }
   ],
   "source": [
    "m"
   ]
  },
  {
   "cell_type": "code",
   "execution_count": 56,
   "id": "b93483a6-a3ad-411b-8616-32b09398da0c",
   "metadata": {},
   "outputs": [],
   "source": [
    "m_double = m.double()"
   ]
  },
  {
   "cell_type": "code",
   "execution_count": 58,
   "id": "68f58bd8-aeec-40a1-a7d8-74f247dc4b40",
   "metadata": {},
   "outputs": [
    {
     "data": {
      "text/plain": [
       "tensor([[2., 5., 3., 7.],\n",
       "        [4., 2., 1., 9.]], dtype=torch.float64)"
      ]
     },
     "execution_count": 58,
     "metadata": {},
     "output_type": "execute_result"
    }
   ],
   "source": [
    "m_double"
   ]
  },
  {
   "cell_type": "code",
   "execution_count": 59,
   "id": "b0300bfd-33c0-4f7e-b198-07d54a680692",
   "metadata": {},
   "outputs": [
    {
     "data": {
      "text/plain": [
       "tensor([[2, 5, 3, 7],\n",
       "        [4, 2, 1, 9]], dtype=torch.uint8)"
      ]
     },
     "execution_count": 59,
     "metadata": {},
     "output_type": "execute_result"
    }
   ],
   "source": [
    "m_byte = m.byte()\n",
    "m_byte"
   ]
  },
  {
   "cell_type": "code",
   "execution_count": 62,
   "id": "94dbaf5a-01c3-4f01-bd68-a703b6a2d890",
   "metadata": {},
   "outputs": [
    {
     "name": "stdout",
     "output_type": "stream",
     "text": [
      "cuda:0\n"
     ]
    },
    {
     "data": {
      "text/plain": [
       "tensor([[2., 5., 3., 7.],\n",
       "        [4., 2., 1., 9.]], device='cuda:0')"
      ]
     },
     "execution_count": 62,
     "metadata": {},
     "output_type": "execute_result"
    }
   ],
   "source": [
    "# Move your tensor to GPU device 0 if there is one (first GPU in the system)\n",
    "device = torch.device(\"cuda:0\" if torch.cuda.is_available() else \"cpu\")\n",
    "print(device)\n",
    "m.to(device)"
   ]
  },
  {
   "cell_type": "code",
   "execution_count": 63,
   "id": "3a59ad69-9bd0-492a-a942-40ec6e047687",
   "metadata": {},
   "outputs": [
    {
     "data": {
      "text/plain": [
       "array([[2., 5., 3., 7.],\n",
       "       [4., 2., 1., 9.]], dtype=float32)"
      ]
     },
     "execution_count": 63,
     "metadata": {},
     "output_type": "execute_result"
    }
   ],
   "source": [
    "m_np = m.numpy()\n",
    "m_np"
   ]
  },
  {
   "cell_type": "code",
   "execution_count": null,
   "id": "03f7cdef-7482-4ea3-bad4-478b955b17d5",
   "metadata": {},
   "outputs": [],
   "source": []
  }
 ],
 "metadata": {
  "kernelspec": {
   "display_name": "Python 3 (ipykernel)",
   "language": "python",
   "name": "python3"
  },
  "language_info": {
   "codemirror_mode": {
    "name": "ipython",
    "version": 3
   },
   "file_extension": ".py",
   "mimetype": "text/x-python",
   "name": "python",
   "nbconvert_exporter": "python",
   "pygments_lexer": "ipython3",
   "version": "3.10.6"
  }
 },
 "nbformat": 4,
 "nbformat_minor": 5
}
